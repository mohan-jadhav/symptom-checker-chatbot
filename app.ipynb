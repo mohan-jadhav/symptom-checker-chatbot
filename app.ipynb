{
 "cells": [
  {
   "cell_type": "code",
   "execution_count": 3,
   "metadata": {},
   "outputs": [
    {
     "name": "stdout",
     "output_type": "stream",
     "text": [
      "Requirement already satisfied: scikit-learn in c:\\users\\mohan\\appdata\\local\\programs\\python\\python312\\lib\\site-packages (from -r requirements.txt (line 1)) (1.5.1)\n",
      "Requirement already satisfied: pandas in c:\\users\\mohan\\appdata\\local\\programs\\python\\python312\\lib\\site-packages (from -r requirements.txt (line 2)) (2.2.2)\n",
      "Requirement already satisfied: pyttsx3 in c:\\users\\mohan\\appdata\\local\\programs\\python\\python312\\lib\\site-packages (from -r requirements.txt (line 3)) (2.90)\n",
      "Requirement already satisfied: numpy>=1.19.5 in c:\\users\\mohan\\appdata\\local\\programs\\python\\python312\\lib\\site-packages (from scikit-learn->-r requirements.txt (line 1)) (1.26.4)\n",
      "Requirement already satisfied: scipy>=1.6.0 in c:\\users\\mohan\\appdata\\local\\programs\\python\\python312\\lib\\site-packages (from scikit-learn->-r requirements.txt (line 1)) (1.14.0)\n",
      "Requirement already satisfied: joblib>=1.2.0 in c:\\users\\mohan\\appdata\\local\\programs\\python\\python312\\lib\\site-packages (from scikit-learn->-r requirements.txt (line 1)) (1.4.2)\n",
      "Requirement already satisfied: threadpoolctl>=3.1.0 in c:\\users\\mohan\\appdata\\local\\programs\\python\\python312\\lib\\site-packages (from scikit-learn->-r requirements.txt (line 1)) (3.5.0)\n",
      "Requirement already satisfied: python-dateutil>=2.8.2 in c:\\users\\mohan\\appdata\\roaming\\python\\python312\\site-packages (from pandas->-r requirements.txt (line 2)) (2.8.2)\n",
      "Requirement already satisfied: pytz>=2020.1 in c:\\users\\mohan\\appdata\\local\\programs\\python\\python312\\lib\\site-packages (from pandas->-r requirements.txt (line 2)) (2024.1)\n",
      "Requirement already satisfied: tzdata>=2022.7 in c:\\users\\mohan\\appdata\\local\\programs\\python\\python312\\lib\\site-packages (from pandas->-r requirements.txt (line 2)) (2024.1)\n",
      "Requirement already satisfied: comtypes in c:\\users\\mohan\\appdata\\local\\programs\\python\\python312\\lib\\site-packages (from pyttsx3->-r requirements.txt (line 3)) (1.4.5)\n",
      "Requirement already satisfied: pypiwin32 in c:\\users\\mohan\\appdata\\local\\programs\\python\\python312\\lib\\site-packages (from pyttsx3->-r requirements.txt (line 3)) (223)\n",
      "Requirement already satisfied: pywin32 in c:\\users\\mohan\\appdata\\roaming\\python\\python312\\site-packages (from pyttsx3->-r requirements.txt (line 3)) (306)\n",
      "Requirement already satisfied: six>=1.5 in c:\\users\\mohan\\appdata\\roaming\\python\\python312\\site-packages (from python-dateutil>=2.8.2->pandas->-r requirements.txt (line 2)) (1.16.0)\n"
     ]
    },
    {
     "name": "stderr",
     "output_type": "stream",
     "text": [
      "\n",
      "[notice] A new release of pip is available: 24.0 -> 24.3.1\n",
      "[notice] To update, run: python.exe -m pip install --upgrade pip\n"
     ]
    }
   ],
   "source": [
    "! pip install -r requirements.txt"
   ]
  },
  {
   "cell_type": "code",
   "execution_count": 4,
   "metadata": {},
   "outputs": [],
   "source": [
    "import re\n",
    "import pandas as pd\n",
    "import pyttsx3\n",
    "from sklearn import preprocessing\n",
    "from sklearn.tree import DecisionTreeClassifier,_tree\n",
    "import numpy as np\n",
    "from sklearn.model_selection import train_test_split\n",
    "from sklearn.model_selection import cross_val_score\n",
    "from sklearn.svm import SVC\n",
    "import csv\n",
    "import warnings\n",
    "warnings.filterwarnings(\"ignore\", category=DeprecationWarning)"
   ]
  },
  {
   "cell_type": "code",
   "execution_count": 5,
   "metadata": {},
   "outputs": [],
   "source": [
    "#these lines load the training and testing datasets from CSV files into two pandas DataFrames, training and testing\n",
    "training = pd.read_csv('Data/Training.csv')\n",
    "testing= pd.read_csv('Data/Testing.csv')\n",
    "cols= training.columns\n",
    "cols= cols[:-1]\n",
    "x = training[cols]\n",
    "y = training['prognosis']\n",
    "y1= y\n",
    "\n"
   ]
  },
  {
   "cell_type": "code",
   "execution_count": 6,
   "metadata": {},
   "outputs": [],
   "source": [
    "#reduced_data provides the maximum values of all columns for each unique prognosis category.\n",
    "reduced_data = training.groupby(training['prognosis']).max()"
   ]
  },
  {
   "cell_type": "code",
   "execution_count": 7,
   "metadata": {},
   "outputs": [],
   "source": [
    "#mapping strings to numbers\n",
    "le = preprocessing.LabelEncoder()\n",
    "le.fit(y)\n",
    "y = le.transform(y)\n"
   ]
  },
  {
   "cell_type": "code",
   "execution_count": 8,
   "metadata": {},
   "outputs": [],
   "source": [
    "x_train, x_test, y_train, y_test = train_test_split(x, y, test_size=0.33, random_state=42)\n",
    "testx    = testing[cols]\n",
    "testy    = testing['prognosis']  \n",
    "testy    = le.transform(testy)"
   ]
  },
  {
   "cell_type": "code",
   "execution_count": 9,
   "metadata": {},
   "outputs": [
    {
     "name": "stdout",
     "output_type": "stream",
     "text": [
      "0.9729113095197496\n"
     ]
    }
   ],
   "source": [
    "clf1  = DecisionTreeClassifier()\n",
    "clf = clf1.fit(x_train,y_train)\n",
    "# print(clf.score(x_train,y_train))\n",
    "# print (\"cross result========\")\n",
    "scores = cross_val_score(clf, x_test, y_test, cv=3)\n",
    "# print (scores)\n",
    "print (scores.mean())"
   ]
  },
  {
   "cell_type": "code",
   "execution_count": 10,
   "metadata": {},
   "outputs": [
    {
     "name": "stdout",
     "output_type": "stream",
     "text": [
      "for svm: \n",
      "1.0\n"
     ]
    }
   ],
   "source": [
    "#The code trains a Support Vector Classifier on the training data and then prints the accuracy of the model on the test data.\n",
    "\n",
    "model=SVC()\n",
    "model.fit(x_train,y_train)\n",
    "print(\"for svm: \")\n",
    "print(model.score(x_test,y_test))"
   ]
  },
  {
   "cell_type": "code",
   "execution_count": 11,
   "metadata": {},
   "outputs": [],
   "source": [
    "#important feature of dataset\n",
    "importances = clf.feature_importances_\n",
    "indices = np.argsort(importances)[::-1]\n",
    "features = cols"
   ]
  },
  {
   "cell_type": "code",
   "execution_count": 12,
   "metadata": {},
   "outputs": [],
   "source": [
    "# severityDictionary: To store severity levels.\n",
    "# description_list: To store descriptions or details.\n",
    "# precautionDictionary: To store precautionary measures or actions.\n",
    "\n",
    "severityDictionary=dict()\n",
    "description_list = dict()\n",
    "precautionDictionary=dict()"
   ]
  },
  {
   "cell_type": "code",
   "execution_count": 14,
   "metadata": {},
   "outputs": [],
   "source": [
    "# symptoms_dict: Maps symptoms to their indices.\n",
    "# calc_condition(exp, days): Calculates the total severity of symptoms in exp, adjusts it based on days, and prints a recommendation based on the severity score.\n",
    "\n",
    "\n",
    "symptoms_dict = {}\n",
    "\n",
    "for index, symptom in enumerate(x):\n",
    "       symptoms_dict[symptom] = index\n",
    "def calc_condition(exp,days):\n",
    "    sum=0\n",
    "    for item in exp:\n",
    "         sum=sum+severityDictionary[item]\n",
    "    if((sum*days)/(len(exp)+1)>13):\n",
    "        print(\"You should take the consultation from doctor. \")\n",
    "    else:\n",
    "        print(\"It might not be that bad but you should take precautions.\")\n"
   ]
  },
  {
   "cell_type": "code",
   "execution_count": 15,
   "metadata": {},
   "outputs": [],
   "source": [
    "# getDescription(): Reads symptom descriptions from a CSV file and updates the global description_list dictionary with these descriptions.\n",
    "def getDescription():\n",
    "    global description_list\n",
    "    with open('MasterData/symptom_Description.csv') as csv_file:\n",
    "        csv_reader = csv.reader(csv_file, delimiter=',')\n",
    "        line_count = 0\n",
    "        for row in csv_reader:\n",
    "            _description={row[0]:row[1]}\n",
    "            description_list.update(_description)\n"
   ]
  },
  {
   "cell_type": "code",
   "execution_count": 16,
   "metadata": {},
   "outputs": [],
   "source": [
    "# breakdown of the getSeverityDict function, which reads symptom severities from a CSV file and updates the global severityDictionary:\n",
    "def getSeverityDict():\n",
    "    global severityDictionary\n",
    "    with open('MasterData/symptom_severity.csv') as csv_file:\n",
    "\n",
    "        csv_reader = csv.reader(csv_file, delimiter=',')\n",
    "        line_count = 0\n",
    "        try:\n",
    "            for row in csv_reader:\n",
    "                _diction={row[0]:int(row[1])}\n",
    "                severityDictionary.update(_diction)\n",
    "        except:\n",
    "            pass"
   ]
  },
  {
   "cell_type": "code",
   "execution_count": 17,
   "metadata": {},
   "outputs": [],
   "source": [
    "# getprecautionDict(): Reads precautionary measures from a CSV file and updates the global precautionDictionary with these precautions.\n",
    "def getprecautionDict():\n",
    "    global precautionDictionary\n",
    "    with open('MasterData/symptom_precaution.csv') as csv_file:\n",
    "\n",
    "        csv_reader = csv.reader(csv_file, delimiter=',')\n",
    "        line_count = 0\n",
    "        for row in csv_reader:\n",
    "            _prec={row[0]:[row[1],row[2],row[3],row[4]]}\n",
    "            precautionDictionary.update(_prec)\n"
   ]
  },
  {
   "cell_type": "code",
   "execution_count": 18,
   "metadata": {},
   "outputs": [],
   "source": [
    "# getInfo(): Greets the user and asks for their name.\n",
    "# check_pattern(dis_list, inp): Checks if the input string matches any items in dis_list using regex and returns the results.\n",
    "# sec_predict(symptoms_exp): Uses a trained Decision Tree classifier to predict a condition based on the given list of symptoms.\n",
    "\n",
    "\n",
    "def getInfo():\n",
    "    print(\"-----------------------------------HealthCare ChatBot-----------------------------------\")\n",
    "    print(\"\\nYour Name? \\t\\t\\t\\t\",end=\"->\")\n",
    "    name=input(\"\")\n",
    "    print(\"Hello, \",name)\n",
    "\n",
    "def check_pattern(dis_list,inp):\n",
    "    pred_list=[]\n",
    "    inp=inp.replace(' ','_')\n",
    "    patt = f\"{inp}\"\n",
    "    regexp = re.compile(patt)\n",
    "    pred_list=[item for item in dis_list if regexp.search(item)]\n",
    "    if(len(pred_list)>0):\n",
    "        return 1,pred_list\n",
    "    else:\n",
    "        return 0,[]\n",
    "def sec_predict(symptoms_exp):\n",
    "    df = pd.read_csv('Data/Training.csv')\n",
    "    X = df.iloc[:, :-1]\n",
    "    y = df['prognosis']\n",
    "    X_train, X_test, y_train, y_test = train_test_split(X, y, test_size=0.3, random_state=20)\n",
    "    rf_clf = DecisionTreeClassifier()\n",
    "    rf_clf.fit(X_train, y_train)\n",
    "\n",
    "    symptoms_dict = {symptom: index for index, symptom in enumerate(X)}\n",
    "    input_vector = np.zeros(len(symptoms_dict))\n",
    "    for item in symptoms_exp:\n",
    "      input_vector[[symptoms_dict[item]]] = 1\n",
    "\n",
    "    return rf_clf.predict([input_vector])"
   ]
  },
  {
   "cell_type": "code",
   "execution_count": 19,
   "metadata": {},
   "outputs": [],
   "source": [
    "# print_disease(node): Processes a Decision Tree leaf node to return a list of predicted diseases.\n",
    "# tree_to_code(tree, feature_names): Handles user interaction to predict diseases based on symptoms, traverses a Decision Tree, and provides recommendations and precautions.\n",
    "\n",
    "def print_disease(node):\n",
    "    node = node[0]\n",
    "    val  = node.nonzero() \n",
    "    disease = le.inverse_transform(val[0])\n",
    "    return list(map(lambda x:x.strip(),list(disease)))\n",
    "\n",
    "def tree_to_code(tree, feature_names):\n",
    "    tree_ = tree.tree_\n",
    "    feature_name = [\n",
    "        feature_names[i] if i != _tree.TREE_UNDEFINED else \"undefined!\"\n",
    "        for i in tree_.feature\n",
    "    ]\n",
    "\n",
    "    chk_dis=\",\".join(feature_names).split(\",\")\n",
    "    symptoms_present = []\n",
    "\n",
    "    while True:\n",
    "\n",
    "        print(\"\\nEnter the symptom you are experiencing  \\t\\t\",end=\"->\")\n",
    "        disease_input = input(\"\")\n",
    "        conf,cnf_dis=check_pattern(chk_dis,disease_input)\n",
    "        if conf==1:\n",
    "            print(\"searches related to input: \")\n",
    "            for num,it in enumerate(cnf_dis):\n",
    "                print(num,\")\",it)\n",
    "            if num!=0:\n",
    "                print(f\"Select the one you meant (0 - {num}):  \", end=\"\")\n",
    "                conf_inp = int(input(\"\"))\n",
    "            else:\n",
    "                conf_inp=0\n",
    "\n",
    "            disease_input=cnf_dis[conf_inp]\n",
    "            break\n",
    "            # print(\"Did you mean: \",cnf_dis,\"?(yes/no) :\",end=\"\")\n",
    "            # conf_inp = input(\"\")\n",
    "            # if(conf_inp==\"yes\"):\n",
    "            #     break\n",
    "        else:\n",
    "            print(\"Enter valid symptom.\")\n",
    "\n",
    "    while True:\n",
    "        try:\n",
    "            num_days=int(input(\"Okay. From how many days ? : \"))\n",
    "            break\n",
    "        except:\n",
    "            print(\"Enter valid input.\")\n",
    "    def recurse(node, depth):\n",
    "        indent = \"  \" * depth\n",
    "        if tree_.feature[node] != _tree.TREE_UNDEFINED:\n",
    "            name = feature_name[node]\n",
    "            threshold = tree_.threshold[node]\n",
    "\n",
    "            if name == disease_input:\n",
    "                val = 1\n",
    "            else:\n",
    "                val = 0\n",
    "            if  val <= threshold:\n",
    "                recurse(tree_.children_left[node], depth + 1)\n",
    "            else:\n",
    "                symptoms_present.append(name)\n",
    "                recurse(tree_.children_right[node], depth + 1)\n",
    "        else:\n",
    "            present_disease = print_disease(tree_.value[node])\n",
    "            # print( \"You may have \" +  present_disease )\n",
    "            red_cols = reduced_data.columns \n",
    "            symptoms_given = red_cols[reduced_data.loc[present_disease].values[0].nonzero()]\n",
    "            # dis_list=list(symptoms_present)\n",
    "            # if len(dis_list)!=0:\n",
    "            #     print(\"symptoms present  \" + str(list(symptoms_present)))\n",
    "            # print(\"symptoms given \"  +  str(list(symptoms_given)) )\n",
    "            print(\"Are you experiencing any \")\n",
    "            symptoms_exp=[]\n",
    "            for syms in list(symptoms_given):\n",
    "                inp=\"\"\n",
    "                print(syms,\"? : \",end='')\n",
    "                while True:\n",
    "                    inp=input(\"\")\n",
    "                    if(inp==\"yes\" or inp==\"no\"):\n",
    "                        break\n",
    "                    else:\n",
    "                        print(\"provide proper answers i.e. (yes/no) : \",end=\"\")\n",
    "                if(inp==\"yes\"):\n",
    "                    symptoms_exp.append(syms)\n",
    "\n",
    "            second_prediction=sec_predict(symptoms_exp)\n",
    "            # print(second_prediction)\n",
    "            calc_condition(symptoms_exp,num_days)\n",
    "            if(present_disease[0]==second_prediction[0]):\n",
    "                print(\"You may have \", present_disease[0])\n",
    "                print(description_list[present_disease[0]])\n",
    "\n",
    "                # readn(f\"You may have {present_disease[0]}\")\n",
    "                # readn(f\"{description_list[present_disease[0]]}\")\n",
    "\n",
    "            else:\n",
    "                print(\"You may have \", present_disease[0], \"or \", second_prediction[0])\n",
    "                print(description_list[present_disease[0]])\n",
    "                print(description_list[second_prediction[0]])\n",
    "\n",
    "            # print(description_list[present_disease[0]])\n",
    "            precution_list=precautionDictionary[present_disease[0]]\n",
    "            print(\"Take following measures : \")\n",
    "            for  i,j in enumerate(precution_list):\n",
    "                print(i+1,\")\",j)\n",
    "\n",
    "            # confidence_level = (1.0*len(symptoms_present))/len(symptoms_given)\n",
    "            # print(\"confidence level is \" + str(confidence_level))\n",
    "\n",
    "    recurse(0, 1)\n",
    "\n",
    "\n",
    "\n"
   ]
  },
  {
   "cell_type": "code",
   "execution_count": 24,
   "metadata": {},
   "outputs": [
    {
     "data": {
      "image/png": "[encoded data removed]",
      "text/plain": [
       "<Figure size 800x600 with 1 Axes>"
      ]
     },
     "metadata": {},
     "output_type": "display_data"
    }
   ],
   "source": [
    "import matplotlib.pyplot as plt\n",
    "\n",
    "# Cross-validation scores for the Decision Tree\n",
    "cv_scores = cross_val_score(clf, x_test, y_test, cv=3)  # Already computed in your code\n",
    "mean_accuracy = cv_scores.mean()\n",
    "\n",
    "# Plotting the graph\n",
    "plt.figure(figsize=(8, 6))\n",
    "plt.bar(range(1, len(cv_scores) + 1), cv_scores * 100, color='skyblue', label='Fold Accuracy')  # Convert to percentages\n",
    "plt.axhline(y=100, color='red', linestyle='--', label='100% (Perfect Accuracy)')\n",
    "plt.axhline(y=mean_accuracy * 100, color='orange', linestyle='--', label=f'Average Accuracy: {mean_accuracy * 100:.2f}%')\n",
    "\n",
    "plt.ylim(0, 110)  # Show up to 110% for better visualization\n",
    "plt.xlabel('Cross-Validation Fold', fontsize=14)\n",
    "plt.ylabel('Accuracy (%)', fontsize=14)\n",
    "plt.title('Decision Tree Accuracy Comparison', fontsize=16)\n",
    "plt.xticks(range(1, len(cv_scores) + 1), fontsize=12)\n",
    "plt.yticks(range(0, 111, 10), fontsize=12)\n",
    "\n",
    "# Add legend\n",
    "plt.legend(fontsize=12)\n",
    "\n",
    "# Adding values on bars\n",
    "for i, score in enumerate(cv_scores):\n",
    "    plt.text(i + 1, score * 100 + 2, f\"{score * 100:.2f}%\", ha='center', fontsize=10)\n",
    "\n",
    "plt.grid(axis='y', linestyle='--', alpha=0.7)\n",
    "plt.show()\n",
    "\n"
   ]
  }
 ],
 "metadata": {
  "kernelspec": {
   "display_name": "Python 3",
   "language": "python",
   "name": "python3"
  },
  "language_info": {
   "codemirror_mode": {
    "name": "ipython",
    "version": 3
   },
   "file_extension": ".py",
   "mimetype": "text/x-python",
   "name": "python",
   "nbconvert_exporter": "python",
   "pygments_lexer": "ipython3",
   "version": "3.12.2"
  }
 },
 "nbformat": 4,
 "nbformat_minor": 2
}
